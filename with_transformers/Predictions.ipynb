{
 "metadata": {
  "language_info": {
   "codemirror_mode": {
    "name": "ipython",
    "version": 3
   },
   "file_extension": ".py",
   "mimetype": "text/x-python",
   "name": "python",
   "nbconvert_exporter": "python",
   "pygments_lexer": "ipython3",
   "version": "3.8.10"
  },
  "orig_nbformat": 4,
  "kernelspec": {
   "name": "python3",
   "display_name": "Python 3.8.10 64-bit ('transformers': conda)"
  },
  "interpreter": {
   "hash": "97bbd5bcfa43417647568fe5908819da96cd39577af332e6cc9122c6eb6ca10e"
  }
 },
 "nbformat": 4,
 "nbformat_minor": 2,
 "cells": [
  {
   "cell_type": "code",
   "execution_count": null,
   "metadata": {},
   "outputs": [],
   "source": [
    "#! pip install datasets transformers seqeval"
   ]
  },
  {
   "cell_type": "code",
   "execution_count": 5,
   "metadata": {},
   "outputs": [
    {
     "output_type": "execute_result",
     "data": {
      "text/plain": [
       "[{'entity_group': 'Company',\n",
       "  'score': 0.8078553,\n",
       "  'word': 'Apple',\n",
       "  'start': 0,\n",
       "  'end': 5},\n",
       " {'entity_group': 'Person',\n",
       "  'score': 0.72825116,\n",
       "  'word': 'Steve Jobs',\n",
       "  'start': 75,\n",
       "  'end': 85},\n",
       " {'entity_group': 'Location',\n",
       "  'score': 0.544148,\n",
       "  'word': 'Los Altos',\n",
       "  'start': 88,\n",
       "  'end': 97},\n",
       " {'entity_group': 'Location',\n",
       "  'score': 0.8057552,\n",
       "  'word': 'Californie',\n",
       "  'start': 101,\n",
       "  'end': 111},\n",
       " {'entity_group': 'Person',\n",
       "  'score': 0.7291903,\n",
       "  'word': 'Steve Jobs',\n",
       "  'start': 116,\n",
       "  'end': 126},\n",
       " {'entity_group': 'Person',\n",
       "  'score': 0.73520195,\n",
       "  'word': 'Steve Wozniak',\n",
       "  'start': 128,\n",
       "  'end': 141},\n",
       " {'entity_group': 'Person',\n",
       "  'score': 0.71310455,\n",
       "  'word': 'R',\n",
       "  'start': 145,\n",
       "  'end': 146},\n",
       " {'entity_group': 'Person',\n",
       "  'score': 0.7269391,\n",
       "  'word': 'onald Wayne',\n",
       "  'start': 146,\n",
       "  'end': 157},\n",
       " {'entity_group': 'Company',\n",
       "  'score': 0.6474628,\n",
       "  'word': 'Apple Computer',\n",
       "  'start': 241,\n",
       "  'end': 255}]"
      ]
     },
     "metadata": {},
     "execution_count": 5
    }
   ],
   "source": [
    "from transformers import AutoTokenizer, AutoModelForTokenClassification\n",
    "\n",
    "tokenizer = AutoTokenizer.from_pretrained(\"camembert-base\")\n",
    "model = AutoModelForTokenClassification.from_pretrained(\"CamemBERT-FTB-NER\")\n",
    "\n",
    "\n",
    "##### (Texte de wikipedia)\n",
    "\n",
    "from transformers import pipeline\n",
    "\n",
    "nlp = pipeline('ner', model=model, tokenizer=tokenizer, grouped_entities=True)\n",
    "nlp(\"Apple est créée le 1er avril 1976 dans le garage de la maison d'enfance de Steve Jobs à Los Altos en Californie par Steve Jobs, Steve Wozniak et Ronald Wayne, puis constituée sous forme de société le 3 janvier 1977 à l'origine sous le nom d'Apple Computer, mais pour ses 30 ans et pour refléter la diversification de ses produits, le mot « computer » est retiré le 9 janvier 2015.\")"
   ]
  },
  {
   "cell_type": "code",
   "execution_count": null,
   "metadata": {},
   "outputs": [],
   "source": []
  }
 ]
}